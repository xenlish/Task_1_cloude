{
 "cells": [
  {
   "cell_type": "code",
   "execution_count": 1,
   "id": "0d6fc8df",
   "metadata": {},
   "outputs": [],
   "source": [
    "import pandas as pd\n",
    "import re\n",
    "\n",
    "def add_virtual_column(df: pd.DataFrame, role: str, new_column: str) -> pd.DataFrame:\n",
    "    \"\"\"Add a computed column to a DataFrame based on a simple expression.\"\"\"\n",
    "    valid_label_pattern = re.compile(r'^[A-Za-z_]+$')\n",
    "\n",
    "    if not valid_label_pattern.match(new_column):\n",
    "        return pd.DataFrame([])\n",
    "\n",
    "    role_clean = role.strip()\n",
    "    if not re.fullmatch(r'[A-Za-z_\\+\\-\\*\\s]+', role_clean):\n",
    "        return pd.DataFrame([])\n",
    "\n",
    "    columns_in_role = re.findall(r'[A-Za-z_]+', role_clean)\n",
    "    if any(col not in df.columns for col in columns_in_role):\n",
    "        return pd.DataFrame([])\n",
    "\n",
    "    if any(not valid_label_pattern.match(col) for col in df.columns):\n",
    "        return pd.DataFrame([])\n",
    "\n",
    "    try:\n",
    "        df[new_column] = pd.eval(role_clean, local_dict=df.to_dict(orient=\"series\"))\n",
    "        return df\n",
    "    except Exception:\n",
    "        return pd.DataFrame([])\n"
   ]
  },
  {
   "cell_type": "code",
   "execution_count": 2,
   "id": "68e6efdc",
   "metadata": {},
   "outputs": [
    {
     "data": {
      "text/html": [
       "<div>\n",
       "<style scoped>\n",
       "    .dataframe tbody tr th:only-of-type {\n",
       "        vertical-align: middle;\n",
       "    }\n",
       "\n",
       "    .dataframe tbody tr th {\n",
       "        vertical-align: top;\n",
       "    }\n",
       "\n",
       "    .dataframe thead th {\n",
       "        text-align: right;\n",
       "    }\n",
       "</style>\n",
       "<table border=\"1\" class=\"dataframe\">\n",
       "  <thead>\n",
       "    <tr style=\"text-align: right;\">\n",
       "      <th></th>\n",
       "      <th>quantity</th>\n",
       "      <th>price</th>\n",
       "      <th>total</th>\n",
       "    </tr>\n",
       "  </thead>\n",
       "  <tbody>\n",
       "    <tr>\n",
       "      <th>0</th>\n",
       "      <td>10</td>\n",
       "      <td>10</td>\n",
       "      <td>100</td>\n",
       "    </tr>\n",
       "    <tr>\n",
       "      <th>1</th>\n",
       "      <td>3</td>\n",
       "      <td>1</td>\n",
       "      <td>3</td>\n",
       "    </tr>\n",
       "  </tbody>\n",
       "</table>\n",
       "</div>"
      ],
      "text/plain": [
       "   quantity  price  total\n",
       "0        10     10    100\n",
       "1         3      1      3"
      ]
     },
     "execution_count": 2,
     "metadata": {},
     "output_type": "execute_result"
    }
   ],
   "source": [
    "df = pd.DataFrame({\n",
    "    \"quantity\": [10, 3],\n",
    "    \"price\": [10, 1]\n",
    "})\n",
    "\n",
    "result = add_virtual_column(df, \"quantity * price\", \"total\")\n",
    "result\n"
   ]
  },
  {
   "cell_type": "code",
   "execution_count": 3,
   "id": "b391de4f",
   "metadata": {},
   "outputs": [
    {
     "name": "stdout",
     "output_type": "stream",
     "text": [
      "✅ All tests passed!\n"
     ]
    }
   ],
   "source": [
    "import pandas as pd\n",
    "\n",
    "df = pd.DataFrame([[1, 1]] * 2, columns=[\"label_one\", \"label_two\"])\n",
    "expected = pd.DataFrame([[1, 1, 2]] * 2, columns=[\"label_one\", \"label_two\", \"label_three\"])\n",
    "assert add_virtual_column(df, \"label_one+label_two\", \"label_three\").equals(expected)\n",
    "\n",
    "df = pd.DataFrame([[1, 1]] * 2, columns=[\"label_one\", \"label_two\"])\n",
    "expected = pd.DataFrame([[1, 1, 1]] * 2, columns=[\"label_one\", \"label_two\", \"label_three\"])\n",
    "assert add_virtual_column(df, \"label_one * label_two\", \"label_three\").equals(expected)\n",
    "\n",
    "print(\"✅ All tests passed!\")\n"
   ]
  }
 ],
 "metadata": {
  "kernelspec": {
   "display_name": "Python 3",
   "language": "python",
   "name": "python3"
  },
  "language_info": {
   "codemirror_mode": {
    "name": "ipython",
    "version": 3
   },
   "file_extension": ".py",
   "mimetype": "text/x-python",
   "name": "python",
   "nbconvert_exporter": "python",
   "pygments_lexer": "ipython3",
   "version": "3.11.9"
  }
 },
 "nbformat": 4,
 "nbformat_minor": 5
}
